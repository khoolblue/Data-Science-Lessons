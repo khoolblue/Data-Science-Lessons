{
 "cells": [
  {
   "cell_type": "markdown",
   "id": "c4c7e949-d656-4103-b043-37618edef476",
   "metadata": {},
   "source": [
    "# Data Science Tools and Ecosystem"
   ]
  },
  {
   "cell_type": "markdown",
   "id": "0fea294c-3e29-4b33-9d30-97e78ffbed88",
   "metadata": {},
   "source": [
    "## In this introductory session, I am being forced to MARKUP the code. So LEARN!"
   ]
  },
  {
   "cell_type": "markdown",
   "id": "65af95ef-735c-4d69-ad38-c3291be3317f",
   "metadata": {},
   "source": [
    "**Objectives:**\n",
    "* List some of the commonly used languages preferred by Data Scientists\n",
    "* List some of the frequently used libraries\n",
    "* List some common IDE platforms\n",
    "* How to markup, make tables, bold things up "
   ]
  },
  {
   "cell_type": "markdown",
   "id": "30fccca3-6939-49fd-963a-0ede60b086db",
   "metadata": {},
   "source": [
    "Some of the popular languages that Data Scientists use are:\n",
    "1. Python\n",
    "2. R\n",
    "3. SQL\n",
    "4. Java\n",
    "5. MATLAB\n",
    "6. Julia\n",
    "7. Scala\n",
    "8. JavaScript"
   ]
  },
  {
   "cell_type": "markdown",
   "id": "6781bedc-098f-426b-81d3-7aa193b5e6b4",
   "metadata": {},
   "source": [
    "Some of the common libraries used by Data Scientists include:\n",
    "1. Pandas\n",
    "2. Numpy\n",
    "3. matplotlib\n",
    "4. TensorFlow\n",
    "5. PyTorch\n",
    "6. plotly\n",
    "7. NLTK"
   ]
  },
  {
   "cell_type": "markdown",
   "id": "cd5a4c84-7f7e-48e6-9d39-a4762bfea8ba",
   "metadata": {},
   "source": [
    "|Data Science Tools|\n",
    "|--------------------|\n",
    "|Jupyter Notebook|\n",
    "|RStudio|\n",
    "|Apache Zeppelin|"
   ]
  },
  {
   "cell_type": "markdown",
   "id": "3b6ff7c0-f0a8-4f3a-98e9-47f499fc18f8",
   "metadata": {},
   "source": [
    "### Below are a few examples of evaluating arithmetic expressions in Python"
   ]
  },
  {
   "cell_type": "code",
   "execution_count": 21,
   "id": "b06c7a43-9af4-44e2-a3b7-bd855da55e41",
   "metadata": {},
   "outputs": [
    {
     "name": "stdout",
     "output_type": "stream",
     "text": [
      "17\n"
     ]
    }
   ],
   "source": [
    "#In this expression you see how () defeats the *\n",
    "a = (3*4)+5\n",
    "print(a)"
   ]
  },
  {
   "cell_type": "code",
   "execution_count": 23,
   "id": "b3a7783e-0a62-4236-a0d4-2fc9cf38eba7",
   "metadata": {},
   "outputs": [
    {
     "name": "stdout",
     "output_type": "stream",
     "text": [
      "3.3333333333333335\n"
     ]
    }
   ],
   "source": [
    "#Convert 200 minutes to hours in secs\n",
    "b = 200/60\n",
    "print(b)"
   ]
  },
  {
   "cell_type": "markdown",
   "id": "8b9c3eb3-485f-4b45-a708-988c8065ec85",
   "metadata": {},
   "source": [
    "## Author:\n",
    "Kumar Pushpak"
   ]
  },
  {
   "cell_type": "code",
   "execution_count": null,
   "id": "f19ae3e0-ed77-457a-bd6b-39be9335a437",
   "metadata": {},
   "outputs": [],
   "source": []
  }
 ],
 "metadata": {
  "kernelspec": {
   "display_name": "Python [conda env:base] *",
   "language": "python",
   "name": "conda-base-py"
  },
  "language_info": {
   "codemirror_mode": {
    "name": "ipython",
    "version": 3
   },
   "file_extension": ".py",
   "mimetype": "text/x-python",
   "name": "python",
   "nbconvert_exporter": "python",
   "pygments_lexer": "ipython3",
   "version": "3.12.7"
  }
 },
 "nbformat": 4,
 "nbformat_minor": 5
}
